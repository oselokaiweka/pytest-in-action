{
  "nbformat": 4,
  "nbformat_minor": 0,
  "metadata": {
    "colab": {
      "provenance": [],
      "authorship_tag": "ABX9TyN0xsnY9HiT45NFgHre3dq7",
      "include_colab_link": true
    },
    "kernelspec": {
      "name": "python3",
      "display_name": "Python 3"
    },
    "language_info": {
      "name": "python"
    }
  },
  "cells": [
    {
      "cell_type": "markdown",
      "metadata": {
        "id": "view-in-github",
        "colab_type": "text"
      },
      "source": [
        "<a href=\"https://colab.research.google.com/github/oselokaiweka/pytest-in-action/blob/main/pytest_in_action_notebook.ipynb\" target=\"_parent\"><img src=\"https://colab.research.google.com/assets/colab-badge.svg\" alt=\"Open In Colab\"/></a>"
      ]
    },
    {
      "cell_type": "code",
      "execution_count": 1,
      "metadata": {
        "id": "1AlzsJAaBFvV"
      },
      "outputs": [],
      "source": [
        "var = 1"
      ]
    },
    {
      "cell_type": "code",
      "source": [
        "assert var == 1"
      ],
      "metadata": {
        "id": "ozrYDaQilGOT"
      },
      "execution_count": 2,
      "outputs": []
    }
  ]
}